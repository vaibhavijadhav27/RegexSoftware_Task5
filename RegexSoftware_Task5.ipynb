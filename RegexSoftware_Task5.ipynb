{
  "nbformat": 4,
  "nbformat_minor": 0,
  "metadata": {
    "colab": {
      "name": "RegexSoftware_Task5.ipynb",
      "provenance": [],
      "authorship_tag": "ABX9TyOj8hbv8udffLFUlYhsfnxd",
      "include_colab_link": true
    },
    "kernelspec": {
      "name": "python3",
      "display_name": "Python 3"
    },
    "language_info": {
      "name": "python"
    }
  },
  "cells": [
    {
      "cell_type": "markdown",
      "metadata": {
        "id": "view-in-github",
        "colab_type": "text"
      },
      "source": [
        "<a href=\"https://colab.research.google.com/github/vaibhavijadhav27/RegexSoftware_Task5/blob/main/RegexSoftware_Task5.ipynb\" target=\"_parent\"><img src=\"https://colab.research.google.com/assets/colab-badge.svg\" alt=\"Open In Colab\"/></a>"
      ]
    },
    {
      "cell_type": "markdown",
      "metadata": {
        "id": "yObtx4S0Uhkc"
      },
      "source": [
        "## **#TASK 5** ##\n",
        "## **Registration ID: SIRSS2278** ##\n",
        "## **Name: Vaibhavi Jadhav** ##"
      ]
    },
    {
      "cell_type": "code",
      "metadata": {
        "colab": {
          "base_uri": "https://localhost:8080/"
        },
        "id": "cgGfmhIhUYiv",
        "outputId": "22618aa8-aa93-4fa9-fca1-5fe24a31b897"
      },
      "source": [
        "\n",
        "numbers=input(\"\").split(' ')\n",
        "sum=0\n",
        "for n in numbers:\n",
        "    n=int(n)\n",
        "    isPrime=True\n",
        "    if n > 1:\n",
        "       \n",
        "        for i in range(2, n):\n",
        "            if (n % i) == 0:\n",
        "                isPrime=False\n",
        "                break\n",
        "        if isPrime:\n",
        "            sum+=n\n",
        "\n",
        "\n",
        "\n",
        "print(str(sum))"
      ],
      "execution_count": 1,
      "outputs": [
        {
          "output_type": "stream",
          "name": "stdout",
          "text": [
            "1 4 3 2 5\n",
            "10\n"
          ]
        }
      ]
    },
    {
      "cell_type": "code",
      "metadata": {
        "colab": {
          "base_uri": "https://localhost:8080/"
        },
        "id": "nQGHm9xlVPgl",
        "outputId": "5e9a091e-94b9-449e-c75e-457a8ab810ca"
      },
      "source": [
        "list = [1, 2, 3, 8, 9, 10]\n",
        "  \n",
        "\n",
        "print (\"Original list : \" + str(list))\n",
        "  \n",
        "result = all(i < j for i, j in zip(list,list[1:]))\n",
        "  \n",
        "\n",
        "print (\"Is the list strictly increasing ? : \" + str(result))"
      ],
      "execution_count": 2,
      "outputs": [
        {
          "output_type": "stream",
          "name": "stdout",
          "text": [
            "Original list : [1, 2, 3, 8, 9, 10]\n",
            "Is the list strictly increasing ? : True\n"
          ]
        }
      ]
    },
    {
      "cell_type": "code",
      "metadata": {
        "id": "5G-63IsQWYnY"
      },
      "source": [
        "\n",
        "def expand(m):\n",
        "    a = abs(m[1] - m[0])\n",
        "    b = abs(m[2] - m[1])\n",
        "    \n",
        "    if a >= b:\n",
        "        return False\n",
        "    \n",
        "    else:\n",
        "        for i in range(3,len(m)):\n",
        "            c = abs(m[i] - m[i-1])\n",
        "            if c <= b:\n",
        "                return False\n",
        "            b = c\n",
        "        else:\n",
        "            return True"
      ],
      "execution_count": 3,
      "outputs": []
    },
    {
      "cell_type": "code",
      "metadata": {
        "colab": {
          "base_uri": "https://localhost:8080/"
        },
        "id": "ggpZF978WgzR",
        "outputId": "2b8ffbb7-652f-4a8e-874c-b1912b61201c"
      },
      "source": [
        "expand([2,4,6,8,10])"
      ],
      "execution_count": 4,
      "outputs": [
        {
          "output_type": "execute_result",
          "data": {
            "text/plain": [
              "False"
            ]
          },
          "metadata": {},
          "execution_count": 4
        }
      ]
    },
    {
      "cell_type": "code",
      "metadata": {
        "colab": {
          "base_uri": "https://localhost:8080/"
        },
        "id": "KgJN_aiqWyqk",
        "outputId": "fab11c8a-c366-4d0c-c02b-5466d9ce3cb6"
      },
      "source": [
        "def permutation(n, ans):\n",
        "    if (len(n) == 0):\n",
        "        print(ans, end = \"  \")\n",
        "        return\n",
        "     \n",
        "    for i in range(len(n)):\n",
        "        ch = n[i]\n",
        "        left = n[0:i]\n",
        "        right = n[i + 1:]\n",
        "        rest = left + right\n",
        "        permutation(rest, ans + ch)\n",
        " \n",
        "\n",
        "ans = \"\"\n",
        " \n",
        "n = input(\"Enter the string : \")\n",
        " \n",
        "print(\"All possible strings are : \")\n",
        "permutation(n, ans)\n"
      ],
      "execution_count": 5,
      "outputs": [
        {
          "output_type": "stream",
          "name": "stdout",
          "text": [
            "Enter the string : thor\n",
            "All possible strings are : \n",
            "thor  thro  tohr  torh  trho  troh  htor  htro  hotr  hort  hrto  hrot  othr  otrh  ohtr  ohrt  orth  orht  rtho  rtoh  rhto  rhot  roth  roht  "
          ]
        }
      ]
    }
  ]
}